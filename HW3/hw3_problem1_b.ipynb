{
 "cells": [
  {
   "cell_type": "code",
   "execution_count": 23,
   "id": "e8396af3",
   "metadata": {},
   "outputs": [],
   "source": [
    "\n",
    "#K-fold cross validation on the training set to obtain best regularization λ and get optimal θ. \n",
    "#Consider root mean squared error (RMSE) as regression error, and report error on test samples. Report\n",
    "# optimal λ, θ test and training errors for K ∈{2,10,N}, where N is number of samples. \n",
    "# For all cases, consider n-degree polynomials, and basis function expansion φ(·) = [1,x,x2,...xn], try n ∈{2,5,10}. \n",
    "from sklearn.linear_model import Ridge\n",
    "from sklearn.model_selection import KFold\n",
    "def rmse(score):\n",
    "    rmse = np.sqrt(-score)\n",
    "    print(f'rmse= {\"{:.2f}\".format(rmse)}')"
   ]
  },
  {
   "cell_type": "code",
   "execution_count": 21,
   "id": "31f2719d",
   "metadata": {},
   "outputs": [],
   "source": [
    "from sklearn.metrics import mean_squared_error\n",
    "\n",
    "df = pd.read_csv( \"PS3-1/test_data.csv\" )\n",
    "X = df['x'].values\n",
    "X=X.reshape(X_train.shape[0], 1)\n",
    "y = df['y'].values    \n"
   ]
  },
  {
   "cell_type": "code",
   "execution_count": 34,
   "id": "abf81559",
   "metadata": {},
   "outputs": [
    {
     "name": "stdout",
     "output_type": "stream",
     "text": [
      "['__abstractmethods__', '__class__', '__delattr__', '__dict__', '__dir__', '__doc__', '__eq__', '__format__', '__ge__', '__getattribute__', '__gt__', '__hash__', '__init__', '__init_subclass__', '__le__', '__lt__', '__module__', '__ne__', '__new__', '__reduce__', '__reduce_ex__', '__repr__', '__setattr__', '__sizeof__', '__str__', '__subclasshook__', '__weakref__', '_abc_impl', '_iter_test_indices', '_iter_test_masks', 'get_n_splits', 'n_splits', 'random_state', 'shuffle', 'split']\n",
      "Fold:1, Train set: 49, Test set:1\n",
      "Fold:2, Train set: 49, Test set:1\n",
      "Fold:3, Train set: 49, Test set:1\n",
      "Fold:4, Train set: 49, Test set:1\n",
      "Fold:5, Train set: 49, Test set:1\n",
      "Fold:6, Train set: 49, Test set:1\n",
      "Fold:7, Train set: 49, Test set:1\n",
      "Fold:8, Train set: 49, Test set:1\n",
      "Fold:9, Train set: 49, Test set:1\n",
      "Fold:10, Train set: 49, Test set:1\n",
      "Fold:11, Train set: 49, Test set:1\n",
      "Fold:12, Train set: 49, Test set:1\n",
      "Fold:13, Train set: 49, Test set:1\n",
      "Fold:14, Train set: 49, Test set:1\n",
      "Fold:15, Train set: 49, Test set:1\n",
      "Fold:16, Train set: 49, Test set:1\n",
      "Fold:17, Train set: 49, Test set:1\n",
      "Fold:18, Train set: 49, Test set:1\n",
      "Fold:19, Train set: 49, Test set:1\n",
      "Fold:20, Train set: 49, Test set:1\n",
      "Fold:21, Train set: 49, Test set:1\n",
      "Fold:22, Train set: 49, Test set:1\n",
      "Fold:23, Train set: 49, Test set:1\n",
      "Fold:24, Train set: 49, Test set:1\n",
      "Fold:25, Train set: 49, Test set:1\n",
      "Fold:26, Train set: 49, Test set:1\n",
      "Fold:27, Train set: 49, Test set:1\n",
      "Fold:28, Train set: 49, Test set:1\n",
      "Fold:29, Train set: 49, Test set:1\n",
      "Fold:30, Train set: 49, Test set:1\n",
      "Fold:31, Train set: 49, Test set:1\n",
      "Fold:32, Train set: 49, Test set:1\n",
      "Fold:33, Train set: 49, Test set:1\n",
      "Fold:34, Train set: 49, Test set:1\n",
      "Fold:35, Train set: 49, Test set:1\n",
      "Fold:36, Train set: 49, Test set:1\n",
      "Fold:37, Train set: 49, Test set:1\n",
      "Fold:38, Train set: 49, Test set:1\n",
      "Fold:39, Train set: 49, Test set:1\n",
      "Fold:40, Train set: 49, Test set:1\n",
      "Fold:41, Train set: 49, Test set:1\n",
      "Fold:42, Train set: 49, Test set:1\n",
      "Fold:43, Train set: 49, Test set:1\n",
      "Fold:44, Train set: 49, Test set:1\n",
      "Fold:45, Train set: 49, Test set:1\n",
      "Fold:46, Train set: 49, Test set:1\n",
      "Fold:47, Train set: 49, Test set:1\n",
      "Fold:48, Train set: 49, Test set:1\n",
      "Fold:49, Train set: 49, Test set:1\n",
      "Fold:50, Train set: 49, Test set:1\n"
     ]
    }
   ],
   "source": [
    "kf = KFold(n_splits=50)\n",
    "\n",
    "print(dir(kf))\n",
    "cnt = 1\n",
    "for train_index, test_index in kf.split(X, y):\n",
    "    print(f'Fold:{cnt}, Train set: {len(train_index)}, Test set:{len(test_index)}')\n",
    "    cnt += 1"
   ]
  },
  {
   "cell_type": "code",
   "execution_count": 64,
   "id": "3d624ec5",
   "metadata": {},
   "outputs": [
    {
     "name": "stdout",
     "output_type": "stream",
     "text": [
      "when we split the data into  2 fold\n",
      "the best lambda is  10.0\n",
      "[102.31848261]\n",
      "26.543213811995678\n",
      "when we split the data into  10 fold\n",
      "the best lambda is  1.0\n",
      "[105.22706217]\n",
      "26.227497666282062\n",
      "when we split the data into  50 fold\n",
      "the best lambda is  100.0\n",
      "[80.1611514]\n",
      "28.948314670386733\n"
     ]
    }
   ],
   "source": [
    "from sklearn.linear_model import RidgeCV\n",
    "for k in [2,10,50]:\n",
    "    kf = KFold(n_splits=k)\n",
    "    score = RidgeCV([1e-3, 1e-2, 1e-1, 1,10,100,1000], cv= kf, scoring=\"neg_root_mean_squared_error\"). fit(X, y)\n",
    "\n",
    "# rmse(score.mean())\n",
    "    print('when we split the data into ',k ,'fold')\n",
    "    print('the best lambda is ',score.alpha_)\n",
    "    print(score.coef_)\n",
    "    print(score.intercept_)"
   ]
  },
  {
   "cell_type": "code",
   "execution_count": 58,
   "id": "5b228e54",
   "metadata": {},
   "outputs": [
    {
     "name": "stdout",
     "output_type": "stream",
     "text": [
      "0.001\n"
     ]
    }
   ],
   "source": [
    "import sklearn\n",
    "sorted(sklearn.metrics.SCORERS.keys())\n",
    "print(1e-3)"
   ]
  }
 ],
 "metadata": {
  "kernelspec": {
   "display_name": "Python 3 (ipykernel)",
   "language": "python",
   "name": "python3"
  },
  "language_info": {
   "codemirror_mode": {
    "name": "ipython",
    "version": 3
   },
   "file_extension": ".py",
   "mimetype": "text/x-python",
   "name": "python",
   "nbconvert_exporter": "python",
   "pygments_lexer": "ipython3",
   "version": "3.9.12"
  }
 },
 "nbformat": 4,
 "nbformat_minor": 5
}
