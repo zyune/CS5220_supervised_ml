{
 "cells": [
  {
   "cell_type": "code",
   "execution_count": 32,
   "id": "a129a5d2",
   "metadata": {},
   "outputs": [],
   "source": [
    "import numpy as np\n",
    "import pandas as pd\n",
    "import matplotlib.pyplot as plt"
   ]
  },
  {
   "cell_type": "code",
   "execution_count": 42,
   "id": "dd750701",
   "metadata": {},
   "outputs": [],
   "source": [
    "def batch_gradient_descent(X, y_true, epochs, learning_rate = 0.01):\n",
    "\n",
    "    number_of_features = X.shape[1]\n",
    "    # numpy array with 1 row and columns equal to number of features. In \n",
    "    # our case number_of_features = 2 (area, bedroom)\n",
    "    w = np.ones(shape=(number_of_features)) \n",
    "    b = 0\n",
    "    total_samples = X.shape[0] # number of rows in X\n",
    "    \n",
    "    cost_list = []\n",
    "    epoch_list = []\n",
    "    \n",
    "    for i in range(epochs):        \n",
    "        y_predicted = np.dot(w, X.T) + b\n",
    "\n",
    "        w_grad = -(2/total_samples)*(X.T.dot(y_true-y_predicted)) #calculate the derivative, find the gradient\n",
    "        b_grad = -(2/total_samples)*np.sum(y_true-y_predicted)\n",
    "        \n",
    "        w = w - learning_rate * w_grad # Adjusted weight\n",
    "        b = b - learning_rate * b_grad\n",
    "        \n",
    "        cost = np.mean(np.square(y_true-y_predicted)) # MSE (Mean Squared Error)\n",
    "        \n",
    "        if i%20==0:\n",
    "            cost_list.append(cost)\n",
    "            epoch_list.append(i)\n",
    "        \n",
    "    return w, b, cost, cost_list, epoch_list\n",
    "\n",
    "# w, b, cost, cost_list, epoch_list = batch_gradient_descent(scaled_X,scaled_y.reshape(scaled_y.shape[0],),500)"
   ]
  },
  {
   "cell_type": "code",
   "execution_count": 67,
   "id": "af5a8be3",
   "metadata": {},
   "outputs": [
    {
     "data": {
      "text/plain": [
       "array([-5.99959370e+01,  2.60812150e+01, -2.17483230e+00, -6.62473800e+00,\n",
       "        2.61658760e+00,  5.04445300e+01,  1.90830210e+01, -5.62887900e+00,\n",
       "        1.29720830e+01, -1.75190530e+01, -7.79382000e+00, -1.33226850e+01,\n",
       "        4.25656740e+01,  1.63800200e+01, -5.90174900e+00, -4.74497130e+00,\n",
       "       -5.36431540e+01,  2.99673460e+01,  6.34908300e-01,  1.93365250e+01,\n",
       "       -2.29361650e+01,  1.50338590e+01, -6.79877950e+00,  4.62876320e-01,\n",
       "        3.30576020e+01,  4.27962900e-01, -3.38859600e+01, -3.06604730e+01,\n",
       "        1.88755530e+01, -7.69680700e+00, -5.41571430e+01,  2.57164080e+01,\n",
       "       -5.27498700e+01, -2.45730420e+01,  1.97596630e+01, -4.44732600e+01,\n",
       "       -1.01443110e+01, -1.05002900e+02,  5.14991470e+00, -4.31453550e+01,\n",
       "        1.27107730e+01, -8.94330800e+01,  1.75520700e+01, -4.59383400e+00,\n",
       "        3.49149480e+01,  1.68610340e+01, -3.12993220e+00,  1.25437400e+01,\n",
       "        1.79908770e+01, -2.03763850e+01,  3.99749100e+01,  5.98488120e+01,\n",
       "       -6.44430200e+01,  2.59376680e+01,  1.46535310e+01, -1.17259360e+01,\n",
       "       -4.62659070e+01, -9.83915600e+00, -5.61600270e+01, -5.04689460e+00,\n",
       "       -1.50540850e+01,  1.51643150e+01, -1.46946350e+01, -5.64626000e+01,\n",
       "       -1.26413430e+01,  8.01964900e+01, -1.53571750e+01,  8.09871700e-01,\n",
       "        3.69113500e+01,  1.26696205e+01, -1.99381680e+01,  1.18482150e+01,\n",
       "        7.46080060e+00,  1.11121030e+01,  2.40170860e+00,  8.56432000e+01,\n",
       "       -3.42121470e+01, -7.37848740e+01,  9.27216530e-01,  3.55434650e+01,\n",
       "        6.82857940e+00,  2.08024670e+01, -6.57600860e+01, -1.51576750e+01,\n",
       "        1.33936690e+01,  1.04213830e+01, -3.72491340e+01, -1.61130140e+01,\n",
       "        4.16290900e+01, -6.65246200e+00,  4.91622050e+01, -3.61416170e+01,\n",
       "        3.69291570e+01, -6.06537550e+01,  1.38257970e+01, -3.07022630e+01,\n",
       "       -1.33391400e+02, -9.00678630e-01, -1.07764480e+01, -4.62002640e+01,\n",
       "       -1.51955080e+01, -1.10030170e-02, -6.36311650e+01,  2.25789620e+01,\n",
       "       -9.85269900e+01, -1.03137400e+01, -4.23586500e+01,  3.85247500e+01,\n",
       "       -1.20541510e+01,  3.71106150e+00, -1.05014500e+01,  6.25305300e+01,\n",
       "       -6.14351960e+01, -1.83872150e+01,  3.85517600e+01, -3.25299070e+00,\n",
       "       -2.82065870e-01, -2.69511050e+01, -2.57409100e+01, -2.13364320e+00,\n",
       "        1.91501140e+01, -2.24595340e+01, -6.79690840e+00,  4.79207880e+01,\n",
       "       -7.74919000e+01,  4.04952050e+01, -5.34917400e+01, -9.00107000e+01,\n",
       "       -6.65688700e+00,  4.78566170e+01, -9.61914300e+00, -1.15766470e+01,\n",
       "       -8.20058300e+01,  1.36472870e+01,  3.17998310e+00,  2.65101070e+01,\n",
       "        3.24313130e+01, -1.02126580e+02,  1.20041390e+01,  4.84658700e+00,\n",
       "       -1.50772350e+01, -1.75186840e+01, -8.65655900e+01, -1.53598610e+01,\n",
       "        1.31995820e+01, -4.47177430e+01,  1.50491120e+01, -3.28851360e+01,\n",
       "        7.37717000e+01,  7.23108000e+01, -4.12119300e+00,  6.55779740e+00,\n",
       "       -3.81474000e+01, -4.44318240e+01,  1.44010260e+01, -8.30688500e+00,\n",
       "        3.31315460e+01,  3.03459050e+01,  9.57977700e+00, -3.67166060e+01,\n",
       "        5.34056360e+01, -2.71611710e+01, -2.33170260e+01, -4.43455960e+01,\n",
       "       -4.24838560e+01, -3.90903170e+01, -2.62652440e+01, -2.24155730e+01,\n",
       "       -3.79692730e+01, -9.69488700e+00, -1.72998680e+01,  6.24827100e+00,\n",
       "        5.50436170e+01,  3.62543870e+01, -4.81652640e+01, -1.22503580e+01,\n",
       "       -3.27619740e+00,  8.16376000e+00,  4.11842200e+01,  5.81095030e+00,\n",
       "        6.34094430e+01,  5.96969800e+00,  1.51730920e+00,  6.28915900e+01,\n",
       "        3.38383140e+01, -7.06511600e+00,  1.04079620e+01, -2.96990950e+01,\n",
       "       -1.44501210e+01,  1.39004290e+01, -5.24175930e+00,  2.38244600e+01,\n",
       "        2.31007550e+00, -4.65558600e+01, -2.51972900e+01,  1.10249710e+01,\n",
       "       -4.62167550e+01, -2.11042270e+01,  7.39106940e+00, -2.17632790e+01])"
      ]
     },
     "execution_count": 67,
     "metadata": {},
     "output_type": "execute_result"
    }
   ],
   "source": [
    "test_data = pd.read_csv(\"HW-1-Data-1/test_data.csv\")\n",
    "\n",
    "x = test_data['x'].values.reshape(x.shape[0],1)\n",
    "\n",
    "Y = test_data['y'].values.reshape(Y.shape[0],)\n",
    "Y"
   ]
  },
  {
   "cell_type": "code",
   "execution_count": 58,
   "id": "da25a0de",
   "metadata": {},
   "outputs": [],
   "source": [
    "w, b, cost, cost_list, epoch_list = batch_gradient_descent(x,Y.reshape(Y.shape[0],),200)"
   ]
  },
  {
   "cell_type": "code",
   "execution_count": 49,
   "id": "7b733ef7",
   "metadata": {},
   "outputs": [
    {
     "name": "stdout",
     "output_type": "stream",
     "text": [
      "[14.09720619] -3.493867435253425 318.9708861569854\n"
     ]
    }
   ],
   "source": [
    "print(w,b,cost)"
   ]
  },
  {
   "cell_type": "code",
   "execution_count": 54,
   "id": "0160e265",
   "metadata": {},
   "outputs": [
    {
     "data": {
      "text/plain": [
       "[<matplotlib.lines.Line2D at 0x7f83602109d0>]"
      ]
     },
     "execution_count": 54,
     "metadata": {},
     "output_type": "execute_result"
    },
    {
     "data": {
      "image/png": "[encoded data removed]",
      "text/plain": [
       "<Figure size 432x288 with 1 Axes>"
      ]
     },
     "metadata": {
      "needs_background": "light"
     },
     "output_type": "display_data"
    }
   ],
   "source": [
    "plt.xlabel(\"epoch\")\n",
    "plt.ylabel(\"cost\")\n",
    "plt.plot(epoch_list,cost_list)"
   ]
  },
  {
   "cell_type": "code",
   "execution_count": 69,
   "id": "d8f1492b",
   "metadata": {},
   "outputs": [
    {
     "data": {
      "text/plain": [
       "(array([14.02564984]), -2.5422305860774337, 78.77359351287154)"
      ]
     },
     "execution_count": 69,
     "metadata": {},
     "output_type": "execute_result"
    }
   ],
   "source": [
    "from numpy import random\n",
    "def stochastic_gradient_descent(X, y_true, epochs, learning_rate = 0.01):\n",
    " \n",
    "    number_of_features = X.shape[1]\n",
    "    # numpy array with 1 row and columns equal to number of features. In \n",
    "    # our case number_of_features = 3 (area, bedroom and age)\n",
    "    w = np.ones(shape=(number_of_features)) \n",
    "    b = 0\n",
    "    total_samples = X.shape[0]\n",
    "    \n",
    "    cost_list = []\n",
    "    epoch_list = []\n",
    "    \n",
    "    for i in range(epochs):    \n",
    "        random_index = random.randint(0,total_samples-1) # random index from total samples\n",
    "        sample_x = X[random_index]\n",
    "        sample_y = y_true[random_index]\n",
    "        \n",
    "        y_predicted = np.dot(w, sample_x.T) + b\n",
    "    \n",
    "        w_grad = -(2/total_samples)*(sample_x.T.dot(sample_y-y_predicted))\n",
    "        b_grad = -(2/total_samples)*(sample_y-y_predicted)\n",
    "        \n",
    "        w = w - learning_rate * w_grad\n",
    "        b = b - learning_rate * b_grad\n",
    "        \n",
    "        cost = np.square(sample_y-y_predicted)\n",
    "        \n",
    "        if i%10==0: # at every 100th iteration record the cost and epoch value\n",
    "            cost_list.append(cost)\n",
    "            epoch_list.append(i)\n",
    "        \n",
    "    return w, b, cost, cost_list, epoch_list\n",
    "\n",
    "w_sgd, b_sgd, cost_sgd, cost_list_sgd, epoch_list_sgd = stochastic_gradient_descent(x,Y.reshape(Y.shape[0],),10000)\n",
    "w_sgd, b_sgd, cost_sgd"
   ]
  },
  {
   "cell_type": "code",
   "execution_count": 71,
   "id": "108aa9d4",
   "metadata": {},
   "outputs": [
    {
     "ename": "AttributeError",
     "evalue": "'list' object has no attribute 'transform'",
     "output_type": "error",
     "traceback": [
      "\u001b[0;31m---------------------------------------------------------------------------\u001b[0m",
      "\u001b[0;31mAttributeError\u001b[0m                            Traceback (most recent call last)",
      "Input \u001b[0;32mIn [71]\u001b[0m, in \u001b[0;36m<cell line: 13>\u001b[0;34m()\u001b[0m\n\u001b[1;32m      9\u001b[0m     \u001b[38;5;66;03m# once we get price prediction we need to to rescal it back to original value\u001b[39;00m\n\u001b[1;32m     10\u001b[0m     \u001b[38;5;66;03m# also since it returns 2D array, to get single value we need to do value[0][0]\u001b[39;00m\n\u001b[1;32m     11\u001b[0m     \u001b[38;5;28;01mreturn\u001b[39;00m sy\u001b[38;5;241m.\u001b[39minverse_transform([[scaled_price]])[\u001b[38;5;241m0\u001b[39m][\u001b[38;5;241m0\u001b[39m]\n\u001b[0;32m---> 13\u001b[0m \u001b[43mpredict\u001b[49m\u001b[43m(\u001b[49m\u001b[43m[\u001b[49m\u001b[38;5;241;43m3.7707396\u001b[39;49m\u001b[43m]\u001b[49m\u001b[43m,\u001b[49m\u001b[43mw\u001b[49m\u001b[43m,\u001b[49m\u001b[43mb\u001b[49m\u001b[43m)\u001b[49m\n",
      "Input \u001b[0;32mIn [71]\u001b[0m, in \u001b[0;36mpredict\u001b[0;34m(x, w, b)\u001b[0m\n\u001b[1;32m      1\u001b[0m \u001b[38;5;28;01mdef\u001b[39;00m \u001b[38;5;21mpredict\u001b[39m(x,w,b):\n\u001b[0;32m----> 2\u001b[0m     scaled_X \u001b[38;5;241m=\u001b[39m \u001b[43mx\u001b[49m\u001b[38;5;241;43m.\u001b[39;49m\u001b[43mtransform\u001b[49m([[x]])[\u001b[38;5;241m0\u001b[39m]\n\u001b[1;32m      3\u001b[0m     \u001b[38;5;66;03m# here w1 = w[0] , w2 = w[1], w3 = w[2] and bias is b\u001b[39;00m\n\u001b[1;32m      4\u001b[0m     \u001b[38;5;66;03m# equation for price is w1*area + w2*bedrooms + w3*age + bias\u001b[39;00m\n\u001b[1;32m      5\u001b[0m     \u001b[38;5;66;03m# scaled_X[0] is area\u001b[39;00m\n\u001b[1;32m      6\u001b[0m     \u001b[38;5;66;03m# scaled_X[1] is bedrooms\u001b[39;00m\n\u001b[1;32m      7\u001b[0m     \u001b[38;5;66;03m# scaled_X[2] is age\u001b[39;00m\n\u001b[1;32m      8\u001b[0m     scaled_price \u001b[38;5;241m=\u001b[39m w[\u001b[38;5;241m0\u001b[39m] \u001b[38;5;241m*\u001b[39m scaled_X[\u001b[38;5;241m0\u001b[39m]  \u001b[38;5;241m+\u001b[39m b\n",
      "\u001b[0;31mAttributeError\u001b[0m: 'list' object has no attribute 'transform'"
     ]
    }
   ],
   "source": [
    "def predict(x,w,b):\n",
    "\n",
    "    y = w[0] * scaled_X[0]  + b\n",
    "    return y\n",
    "    # once we get price prediction we need to to rescal it back to original value\n",
    "    # also since it returns 2D array, to get single value we need to do value[0][0]\n",
    "\n",
    "\n",
    "predict([3.7707396],w,b)"
   ]
  }
 ],
 "metadata": {
  "kernelspec": {
   "display_name": "Python 3 (ipykernel)",
   "language": "python",
   "name": "python3"
  },
  "language_info": {
   "codemirror_mode": {
    "name": "ipython",
    "version": 3
   },
   "file_extension": ".py",
   "mimetype": "text/x-python",
   "name": "python",
   "nbconvert_exporter": "python",
   "pygments_lexer": "ipython3",
   "version": "3.9.12"
  }
 },
 "nbformat": 4,
 "nbformat_minor": 5
}
