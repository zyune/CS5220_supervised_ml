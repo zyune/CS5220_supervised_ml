{
 "cells": [
  {
   "cell_type": "code",
   "execution_count": 79,
   "id": "bf58bba0",
   "metadata": {},
   "outputs": [],
   "source": [
    "\n",
    "import os\n",
    "os.environ['KMP_DUPLICATE_LIB_OK'] = 'True'\n",
    "from ESRNN.m4_data import prepare_m4_data\n",
    "from ESRNN.utils_evaluation import evaluate_prediction_owa\n",
    "from ESRNN import ESRNN\n",
    "\n",
    "\n",
    "\n",
    "\n"
   ]
  },
  {
   "cell_type": "code",
   "execution_count": 85,
   "id": "1f896314",
   "metadata": {},
   "outputs": [
    {
     "name": "stdout",
     "output_type": "stream",
     "text": [
      "\n",
      "\n"
     ]
    }
   ],
   "source": [
    "X_train_df, y_train_df, X_test_df, y_test_df = prepare_m4_data(dataset_name='Hourly',\n",
    "                                                               directory='.',\n",
    "                                                               num_obs=1000)"
   ]
  },
  {
   "cell_type": "code",
   "execution_count": 87,
   "id": "b7c29ff7",
   "metadata": {},
   "outputs": [
    {
     "data": {
      "text/html": [
       "<div>\n",
       "<style scoped>\n",
       "    .dataframe tbody tr th:only-of-type {\n",
       "        vertical-align: middle;\n",
       "    }\n",
       "\n",
       "    .dataframe tbody tr th {\n",
       "        vertical-align: top;\n",
       "    }\n",
       "\n",
       "    .dataframe thead th {\n",
       "        text-align: right;\n",
       "    }\n",
       "</style>\n",
       "<table border=\"1\" class=\"dataframe\">\n",
       "  <thead>\n",
       "    <tr style=\"text-align: right;\">\n",
       "      <th></th>\n",
       "      <th>unique_id</th>\n",
       "      <th>ds</th>\n",
       "      <th>x</th>\n",
       "    </tr>\n",
       "  </thead>\n",
       "  <tbody>\n",
       "    <tr>\n",
       "      <th>0</th>\n",
       "      <td>H1</td>\n",
       "      <td>1970-01-01 00:00:00</td>\n",
       "      <td>Other</td>\n",
       "    </tr>\n",
       "    <tr>\n",
       "      <th>1</th>\n",
       "      <td>H1</td>\n",
       "      <td>1970-01-01 01:00:00</td>\n",
       "      <td>Other</td>\n",
       "    </tr>\n",
       "    <tr>\n",
       "      <th>2</th>\n",
       "      <td>H1</td>\n",
       "      <td>1970-01-01 02:00:00</td>\n",
       "      <td>Other</td>\n",
       "    </tr>\n",
       "    <tr>\n",
       "      <th>3</th>\n",
       "      <td>H1</td>\n",
       "      <td>1970-01-01 03:00:00</td>\n",
       "      <td>Other</td>\n",
       "    </tr>\n",
       "    <tr>\n",
       "      <th>4</th>\n",
       "      <td>H1</td>\n",
       "      <td>1970-01-01 04:00:00</td>\n",
       "      <td>Other</td>\n",
       "    </tr>\n",
       "  </tbody>\n",
       "</table>\n",
       "</div>"
      ],
      "text/plain": [
       "  unique_id                  ds      x\n",
       "0        H1 1970-01-01 00:00:00  Other\n",
       "1        H1 1970-01-01 01:00:00  Other\n",
       "2        H1 1970-01-01 02:00:00  Other\n",
       "3        H1 1970-01-01 03:00:00  Other\n",
       "4        H1 1970-01-01 04:00:00  Other"
      ]
     },
     "execution_count": 87,
     "metadata": {},
     "output_type": "execute_result"
    }
   ],
   "source": [
    "\n",
    "X_train_df.head()\n"
   ]
  },
  {
   "cell_type": "code",
   "execution_count": 82,
   "id": "c389323f",
   "metadata": {},
   "outputs": [
    {
     "data": {
      "text/html": [
       "<div>\n",
       "<style scoped>\n",
       "    .dataframe tbody tr th:only-of-type {\n",
       "        vertical-align: middle;\n",
       "    }\n",
       "\n",
       "    .dataframe tbody tr th {\n",
       "        vertical-align: top;\n",
       "    }\n",
       "\n",
       "    .dataframe thead th {\n",
       "        text-align: right;\n",
       "    }\n",
       "</style>\n",
       "<table border=\"1\" class=\"dataframe\">\n",
       "  <thead>\n",
       "    <tr style=\"text-align: right;\">\n",
       "      <th></th>\n",
       "      <th>unique_id</th>\n",
       "      <th>ds</th>\n",
       "      <th>y</th>\n",
       "      <th>y_hat_naive2</th>\n",
       "    </tr>\n",
       "  </thead>\n",
       "  <tbody>\n",
       "    <tr>\n",
       "      <th>0</th>\n",
       "      <td>Y1</td>\n",
       "      <td>1970-02-01</td>\n",
       "      <td>7290.2</td>\n",
       "      <td>7261.1</td>\n",
       "    </tr>\n",
       "    <tr>\n",
       "      <th>1</th>\n",
       "      <td>Y1</td>\n",
       "      <td>1970-02-02</td>\n",
       "      <td>7392.6</td>\n",
       "      <td>7261.1</td>\n",
       "    </tr>\n",
       "    <tr>\n",
       "      <th>2</th>\n",
       "      <td>Y1</td>\n",
       "      <td>1970-02-03</td>\n",
       "      <td>7527.6</td>\n",
       "      <td>7261.1</td>\n",
       "    </tr>\n",
       "    <tr>\n",
       "      <th>3</th>\n",
       "      <td>Y1</td>\n",
       "      <td>1970-02-04</td>\n",
       "      <td>7594.8</td>\n",
       "      <td>7261.1</td>\n",
       "    </tr>\n",
       "    <tr>\n",
       "      <th>4</th>\n",
       "      <td>Y1</td>\n",
       "      <td>1970-02-05</td>\n",
       "      <td>7720.7</td>\n",
       "      <td>7261.1</td>\n",
       "    </tr>\n",
       "  </tbody>\n",
       "</table>\n",
       "</div>"
      ],
      "text/plain": [
       "  unique_id         ds       y  y_hat_naive2\n",
       "0        Y1 1970-02-01  7290.2        7261.1\n",
       "1        Y1 1970-02-02  7392.6        7261.1\n",
       "2        Y1 1970-02-03  7527.6        7261.1\n",
       "3        Y1 1970-02-04  7594.8        7261.1\n",
       "4        Y1 1970-02-05  7720.7        7261.1"
      ]
     },
     "execution_count": 82,
     "metadata": {},
     "output_type": "execute_result"
    }
   ],
   "source": [
    "y_test_df.head()\n"
   ]
  },
  {
   "cell_type": "code",
   "execution_count": 29,
   "id": "48ba68af",
   "metadata": {},
   "outputs": [],
   "source": [
    "import pandas as pd\n",
    "yearly=pd.read_csv('Yearly-train.csv')\n",
    "yearly.describe().to_csv('yearly_describe.csv')\n"
   ]
  },
  {
   "cell_type": "code",
   "execution_count": 42,
   "id": "fe752e1b",
   "metadata": {},
   "outputs": [
    {
     "data": {
      "text/plain": [
       "0          Y1\n",
       "1          Y1\n",
       "2          Y1\n",
       "3          Y1\n",
       "4          Y1\n",
       "         ... \n",
       "34876    Y999\n",
       "34877    Y999\n",
       "34878    Y999\n",
       "34879    Y999\n",
       "34880    Y999\n",
       "Name: unique_id, Length: 34881, dtype: object"
      ]
     },
     "execution_count": 42,
     "metadata": {},
     "output_type": "execute_result"
    }
   ],
   "source": [
    "X_train_df['unique_id']\n"
   ]
  },
  {
   "cell_type": "code",
   "execution_count": 83,
   "id": "863b5c9b",
   "metadata": {},
   "outputs": [],
   "source": [
    "model = ESRNN(max_epochs=25, freq_of_test=5, batch_size=4, learning_rate=1e-4,\n",
    "              per_series_lr_multip=0.8, lr_scheduler_step_size=10,\n",
    "              lr_decay=0.1, gradient_clipping_threshold=50,\n",
    "              rnn_weight_decay=0.0, level_variability_penalty=100,\n",
    "              testing_percentile=50, training_percentile=50,\n",
    "              ensemble=False, max_periods=25, seasonality=[],\n",
    "              input_size=4, output_size=6,\n",
    "              cell_type='LSTM', state_hsize=40,\n",
    "              dilations=[[1], [6]], add_nl_layer=False,\n",
    "              random_seed=1, device='cpu')"
   ]
  },
  {
   "cell_type": "code",
   "execution_count": 84,
   "id": "4e6cbfe1",
   "metadata": {},
   "outputs": [
    {
     "name": "stdout",
     "output_type": "stream",
     "text": [
      "Infered frequency: D\n",
      "=============== Training ESRNN  ===============\n",
      "\n",
      "========= Epoch 0 finished =========\n",
      "Training time: 2.10075\n",
      "Training loss (50 prc): 1.08207\n",
      "Testing loss  (50 prc): 0.06051\n",
      "OWA: 0.984 \n",
      "SMAPE: 13.94 \n",
      "MASE: 3.87 \n",
      "========= Epoch 1 finished =========\n",
      "Training time: 2.06653\n",
      "Training loss (50 prc): 1.07865\n",
      "========= Epoch 2 finished =========\n",
      "Training time: 2.21196\n",
      "Training loss (50 prc): 1.04170\n",
      "========= Epoch 3 finished =========\n",
      "Training time: 2.32972\n",
      "Training loss (50 prc): 1.05056\n",
      "========= Epoch 4 finished =========\n",
      "Training time: 2.30069\n",
      "Training loss (50 prc): 1.06261\n",
      "========= Epoch 5 finished =========\n",
      "Training time: 2.2328\n",
      "Training loss (50 prc): 1.06209\n",
      "Testing loss  (50 prc): 0.05886\n",
      "OWA: 0.92 \n",
      "SMAPE: 13.11 \n",
      "MASE: 3.594 \n",
      "========= Epoch 6 finished =========\n",
      "Training time: 2.14346\n",
      "Training loss (50 prc): 1.06603\n",
      "========= Epoch 7 finished =========\n",
      "Training time: 2.14183\n",
      "Training loss (50 prc): 1.04888\n",
      "========= Epoch 8 finished =========\n",
      "Training time: 2.02791\n",
      "Training loss (50 prc): 1.05703\n",
      "========= Epoch 9 finished =========\n",
      "Training time: 2.08757\n",
      "Training loss (50 prc): 1.07130\n",
      "========= Epoch 10 finished =========\n",
      "Training time: 2.0394\n",
      "Training loss (50 prc): 1.01517\n",
      "Testing loss  (50 prc): 0.05729\n",
      "OWA: 0.881 \n",
      "SMAPE: 12.727 \n",
      "MASE: 3.394 \n",
      "========= Epoch 11 finished =========\n",
      "Training time: 1.98867\n",
      "Training loss (50 prc): 1.06810\n",
      "========= Epoch 12 finished =========\n",
      "Training time: 2.05769\n",
      "Training loss (50 prc): 1.08203\n",
      "========= Epoch 13 finished =========\n",
      "Training time: 1.98608\n",
      "Training loss (50 prc): 1.05894\n",
      "========= Epoch 14 finished =========\n",
      "Training time: 2.27\n",
      "Training loss (50 prc): 1.06072\n",
      "========= Epoch 15 finished =========\n",
      "Training time: 2.13553\n",
      "Training loss (50 prc): 1.08586\n",
      "Testing loss  (50 prc): 0.05713\n",
      "OWA: 0.88 \n",
      "SMAPE: 12.706 \n",
      "MASE: 3.393 \n",
      "========= Epoch 16 finished =========\n",
      "Training time: 2.2444\n",
      "Training loss (50 prc): 1.05016\n",
      "========= Epoch 17 finished =========\n",
      "Training time: 2.20231\n",
      "Training loss (50 prc): 1.04549\n",
      "========= Epoch 18 finished =========\n",
      "Training time: 2.10523\n",
      "Training loss (50 prc): 1.05321\n",
      "========= Epoch 19 finished =========\n",
      "Training time: 2.1046\n",
      "Training loss (50 prc): 1.06644\n",
      "========= Epoch 20 finished =========\n",
      "Training time: 2.01705\n",
      "Training loss (50 prc): 1.04247\n",
      "Testing loss  (50 prc): 0.05769\n",
      "OWA: 0.879 \n",
      "SMAPE: 12.718 \n",
      "MASE: 3.385 \n",
      "========= Epoch 21 finished =========\n",
      "Training time: 2.10643\n",
      "Training loss (50 prc): 1.04932\n",
      "========= Epoch 22 finished =========\n",
      "Training time: 2.11143\n",
      "Training loss (50 prc): 1.07308\n",
      "========= Epoch 23 finished =========\n",
      "Training time: 2.05628\n",
      "Training loss (50 prc): 1.05901\n",
      "========= Epoch 24 finished =========\n",
      "Training time: 2.02681\n",
      "Training loss (50 prc): 1.03902\n",
      "Train finished! \n",
      "\n",
      "===============  Model evaluation  ==============\n",
      "OWA: 0.879 \n",
      "SMAPE: 12.716 \n",
      "MASE: 3.385 \n"
     ]
    }
   ],
   "source": [
    "model.fit(X_train_df, y_train_df, X_test_df, y_test_df,y_hat_benchmark='y_hat_naive2')\n",
    "\n",
    "# Predict on test set\n",
    "y_hat_df = model.predict(X_test_df)\n",
    "\n",
    "# Evaluate predictions\n",
    "final_owa, final_mase, final_smape = evaluate_prediction_owa(y_hat_df, y_train_df,\n",
    "                                                             X_test_df, y_test_df,\n",
    "                                                             naive2_seasonality=1)"
   ]
  },
  {
   "cell_type": "code",
   "execution_count": 65,
   "id": "0f598406",
   "metadata": {},
   "outputs": [
    {
     "name": "stdout",
     "output_type": "stream",
     "text": [
      "===============  Model evaluation  ==============\n",
      "OWA: nan \n",
      "SMAPE: nan \n",
      "MASE: nan \n"
     ]
    }
   ],
   "source": [
    "y_hat_df = model.predict(X_test_df)\n",
    "\n",
    "# Evaluate predictions\n",
    "final_owa, final_mase, final_smape = evaluate_prediction_owa(y_hat_df, y_train_df,\n",
    "                                                             X_test_df, y_test_df,\n",
    "                                                             naive2_seasonality=1)"
   ]
  }
 ],
 "metadata": {
  "kernelspec": {
   "display_name": "Python 3 (ipykernel)",
   "language": "python",
   "name": "python3"
  },
  "language_info": {
   "codemirror_mode": {
    "name": "ipython",
    "version": 3
   },
   "file_extension": ".py",
   "mimetype": "text/x-python",
   "name": "python",
   "nbconvert_exporter": "python",
   "pygments_lexer": "ipython3",
   "version": "3.9.12"
  }
 },
 "nbformat": 4,
 "nbformat_minor": 5
}
